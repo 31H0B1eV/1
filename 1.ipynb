{
 "cells": [
  {
   "cell_type": "markdown",
   "metadata": {},
   "source": [
    "# Решение систем линейных уравнений в Python"
   ]
  },
  {
   "cell_type": "markdown",
   "metadata": {},
   "source": [
    "## Пример 1. Система 2 уравнений\n",
    "Рассмотрим простую систему из 2 линейных уравнений с 2 неизвестными:\n",
    "\\begin{matrix}\n",
    "2x+5y=1 &(1)\n",
    "\\\\\n",
    "x-10y=3 &(2)\n",
    "\\end{matrix}"
   ]
  },
  {
   "cell_type": "markdown",
   "metadata": {},
   "source": [
    "### Аналитическое решение\n",
    "Система легко решается аналитически. Для этого достаточно выразить из уравнения (2) переменную x:\n",
    "\n",
    "\\begin{matrix}\n",
    "x=3 + 10y &(3)\n",
    "\\end{matrix}\n",
    "После чего подставить её в уравнение (1):\n",
    "\\begin{matrix}\n",
    "2\\cdot(3 + 10y)+5y=1,\n",
    "\\end{matrix}\n",
    "и решить получившееся линейное уравнение относительно переменной y:\n",
    "\\begin{matrix}\n",
    "25y+6=1 \\\\ \n",
    "\\end{matrix}\n",
    "\n",
    "\n",
    "\\begin{matrix}\n",
    "25y=-5 \\\\ \n",
    "\\end{matrix}\n",
    "\n",
    "\n",
    "\\begin{matrix}\n",
    "y=-0.2\n",
    "\\end{matrix}\n",
    "Полученное значение y можно подставить в выражение для x в уравнение (3):\n",
    "\\begin{matrix}\n",
    "x=3 + 10\\cdot (-0.2)\n",
    "\\end{matrix}\n",
    "и получить значение переменной x:\n",
    "\\begin{matrix}\n",
    "x=1\n",
    "\\end{matrix}\n",
    "Таким образом **решением системы будет: (1; -0,2)**\n",
    "\n",
    "*(1-е значение в ответе - x, 2-е - y)*"
   ]
  },
  {
   "cell_type": "markdown",
   "metadata": {},
   "source": [
    "### Решение матричным методом (python numpy)\n",
    "\n",
    "Запишем исходную систему уравнений в виде матрицы (левая часть) и вектора (правая часть):\n",
    "\\begin{matrix}\n",
    "2x+5y=1\n",
    "\\\\\n",
    "x-10y=3\n",
    "\\end{matrix}\n",
    "\n",
    "Для этого выпишем по порядку все коэффициенты перед неизвестными в матрицу.\n",
    "\n",
    "Коэффициент перед переменной х 1й строки на место в матрице с координатами 0,0. (2)\n",
    "\n",
    "Коэффициент перед переменной y 1й строки на место в матрице с координатами 0,1. (5)\n",
    "\n",
    "Коэффициент перед переменной х 2й строки на место в матрице с координатами 1,0. (1)\n",
    "\n",
    "Коэффициент перед переменной y 2й строки на место в матрице с координатами 1,1. (-10)\n",
    "\n",
    "\\begin{pmatrix}\n",
    " 2& 5\n",
    "\\\\ \n",
    "1 & -10\n",
    "\\end{pmatrix}\n",
    "\n",
    "Значение свободного члена (число, не умноженное ни на одну переменную системы) после знака равенства 1й строки на местро 0 в векторе.\n",
    "\n",
    "Значение свободного члена 2й строки на местро 1 в векторе.\n",
    "\n",
    "\\begin{pmatrix}\n",
    "1\n",
    "\\\\ \n",
    "3\n",
    "\\end{pmatrix}\n",
    "\n",
    "Для этого воспользуемся numpy массивами:"
   ]
  },
  {
   "cell_type": "code",
   "execution_count": 1,
   "metadata": {
    "collapsed": false
   },
   "outputs": [],
   "source": [
    "import numpy # импортируем библиотеку \n",
    "\n",
    "M1 = numpy.array([[2., 5.], [1., -10.]]) # Матрица (левая часть системы)\n",
    "v1 = numpy.array([1., 3.]) # Вектор (правая часть системы)\n",
    "#Запишем все числа с точкой, т.к. иначе в Python 2 они будут участвовать в целочисленных операциях (остатки от деления будут отбрасываться)"
   ]
  },
  {
   "cell_type": "markdown",
   "metadata": {},
   "source": [
    "Для решения системы воспользуемся функцией numpy.linalg.solve модуля numpy (документация - http://docs.scipy.org/doc/numpy/reference/generated/numpy.linalg.solve.html). Функция принимает на вход 2 параметра:\n",
    "\n",
    "1й - матрица коэффициентов перед переменными\n",
    "\n",
    "2й - вектор сободных членов"
   ]
  },
  {
   "cell_type": "code",
   "execution_count": 2,
   "metadata": {
    "collapsed": false
   },
   "outputs": [
    {
     "data": {
      "text/plain": [
       "array([ 1. , -0.2])"
      ]
     },
     "execution_count": 2,
     "metadata": {},
     "output_type": "execute_result"
    }
   ],
   "source": [
    "numpy.linalg.solve(M1, v1)"
   ]
  },
  {
   "cell_type": "markdown",
   "metadata": {},
   "source": [
    "Обратим внимание, что ответом так же вляется numpy массив!\n",
    "\n",
    "при этом порядок следования ответов в массиве соответсвует порядку столбцов исходной матрицы. Т.е. на 0 месте находится x=1, т.к. мы в матрице внесли в 0 столбец коэффициенты перед переменной х!\n",
    "\n",
    "**Ответ: (1; -0,2)**"
   ]
  },
  {
   "cell_type": "markdown",
   "metadata": {},
   "source": [
    "## Пример 2. Система 4 уравнений\n",
    "Рассмотрим простую систему из 2 линейных уравнений с 2 неизвестными:\n",
    "\\begin{matrix}\n",
    "A + C = 2 &(4)\n",
    "\\\\\n",
    "-A + B - 2C + D = -2 &(5)\n",
    "\\\\\n",
    "4A + C - 2D = 0 &(6)\n",
    "\\\\\n",
    "-4A + 4B + D = 5 &(7)\n",
    "\\end{matrix}\n",
    "\n",
    "Для наглядности решения данной системы матричным методом запишем её в таком виде, чтобы каждое уравнение содержало все 4 переменных, и чтобы они занимали в каждой строке одно и то же порядковое место (А - 0, B - 1, C - 2, D - 3):\n",
    "\n",
    "\\begin{matrix}\n",
    "A + 0B + C + 0D = 2 &(8)\n",
    "\\\\\n",
    "-A + B - 2C + D = -2 &(9)\n",
    "\\\\\n",
    "4A + 0B + C - 2D = 0 &(10)\n",
    "\\\\\n",
    "-4A + 4B + 0C + D = 5 &(11)\n",
    "\\end{matrix}\n",
    "\n",
    "теперь аналогично примеру 1 выпишем матрицу (коэффициенты перед переменными из левой части системы построчно в порядке следования переменных) и вектор (свободные члены из правой части системы):\n",
    "\n",
    "\n",
    "\\begin{pmatrix}\n",
    "1 & 0 & 1 & 0\n",
    "\\\\ \n",
    "-1 & 1 & -2 & 1\n",
    "\\\\\n",
    "4 & 0 & 1 & -2\n",
    "\\\\\n",
    "-4 & 4 & 0 & 1\n",
    "\\end{pmatrix}\n",
    "\n",
    "\n",
    "\\begin{pmatrix}\n",
    "2\n",
    "\\\\ \n",
    "-2\n",
    "\\\\\n",
    "0\n",
    "\\\\\n",
    "5\n",
    "\\end{pmatrix}"
   ]
  },
  {
   "cell_type": "code",
   "execution_count": 3,
   "metadata": {
    "collapsed": false
   },
   "outputs": [
    {
     "data": {
      "text/plain": [
       "array([ 0.,  1.,  2.,  1.])"
      ]
     },
     "execution_count": 3,
     "metadata": {},
     "output_type": "execute_result"
    }
   ],
   "source": [
    "import numpy # импортируем библиотеку \n",
    "\n",
    "M2 = numpy.array([[1., 0., 1., 0.], [-1., 1., -2., 1.], [4., 0., 1., -2.], [-4., 4., 0., 1.]]) # Матрица (левая часть системы)\n",
    "v2 = numpy.array([2., -2., 0., 5.]) # Вектор (правая часть системы)\n",
    "\n",
    "numpy.linalg.solve(M2, v2)"
   ]
  },
  {
   "cell_type": "markdown",
   "metadata": {},
   "source": [
    "**Ответ: (0; 1; 2; 1)**\n",
    "\n",
    "*A = 0, B = 1, C =2, D = 1*"
   ]
  },
  {
   "cell_type": "markdown",
   "metadata": {},
   "source": [
    "## Пример 3. Система 3 уравнений (с приведением к линейному виду)\n",
    "\n",
    "Матричный метод применим только для решения линейных уравнений. Однако иногда можно встретить нелинейные уравнения, легко приводимые к линейной форме, например:\n",
    "\n",
    "\\begin{matrix}\n",
    "2x_{1}+x_{2}^2+x_{3} = 2 &(12)\n",
    "\\\\\n",
    "x_{1}-x_{2}^2 = -2 &(13)\n",
    "\\\\\n",
    "3x_{1}-x_{2}^2+2x_{3} = 2 &(14)\n",
    "\\end{matrix}\n",
    "\n",
    "Можно заметить что переменная x2 входит во все 3 уроавнения только в квадратичной форме. Это означает, что мы можем осуществить замену:\n",
    "\n",
    "\\begin{matrix}\n",
    "x_{2}^2 = a &(15)\n",
    "\\end{matrix}\n",
    "\n",
    "С учётом этой подстановки запишем систему, аналогично примеру 2 с вхождением всех 3 переменных:\n",
    "\n",
    "\\begin{matrix}\n",
    "2x_{1}+a+x_{3} = 2 &(16)\n",
    "\\\\\n",
    "x_{1}-a+0x_{3} = -2 &(17)\n",
    "\\\\\n",
    "3x_{1}-a+2x_{3} = 2 &(18)\n",
    "\\end{matrix}\n",
    "\n",
    "Для новой системы мы уже умеем записывать матрицу (коэффициенты перед переменными из левой части системы) и вектор (свободные члены из правой части):\n",
    "\n",
    "\\begin{pmatrix}\n",
    "2 & 1 & 1\n",
    "\\\\ \n",
    "1 & -1 & 0\n",
    "\\\\\n",
    "3 & -1 & 2\n",
    "\\end{pmatrix}\n",
    "\n",
    "\\begin{pmatrix}\n",
    "2\n",
    "\\\\\n",
    "-2\n",
    "\\\\\n",
    "2\n",
    "\\end{pmatrix}"
   ]
  },
  {
   "cell_type": "code",
   "execution_count": 4,
   "metadata": {
    "collapsed": false
   },
   "outputs": [
    {
     "data": {
      "text/plain": [
       "array([-1.,  1.,  3.])"
      ]
     },
     "execution_count": 4,
     "metadata": {},
     "output_type": "execute_result"
    }
   ],
   "source": [
    "import numpy # импортируем библиотеку \n",
    "\n",
    "M3 = numpy.array([[2., 1., 1.], [1., -1., 0.], [3., -1., 2.]]) # Матрица (левая часть системы)\n",
    "v3 = numpy.array([2., -2., 2.]) # Вектор (правая часть системы)\n",
    "\n",
    "numpy.linalg.solve(M3, v3)"
   ]
  },
  {
   "cell_type": "markdown",
   "metadata": {},
   "source": [
    "Мы получили промежуточный результат:\n",
    "\n",
    "$x_{1}= -1, a= 1, x_{3}= 3,$\n",
    "\n",
    "или\n",
    "\n",
    "$x_{1}= -1, x_{2}^2= 1, x_{3}= 3,$\n",
    "\n",
    "$x_{2}^2=1$ соответсвует 2 значениям $x_{2}$: 1 и -1.\n",
    "\n",
    "Таким образом мы получаем 2 решения нашей системы: $x_{1}= -1, x_{2}= 1, x_{3}= 3,$ и $x_{1}= -1, x_{2}= -1, x_{3}= 3,$\n",
    "\n",
    "**Ответ: (-1; 1; 3) и (-1; -1; 3)**"
   ]
  },
  {
   "cell_type": "markdown",
   "metadata": {},
   "source": [
    "### Пример 4. Решение простой задачи с помощью системы линейных уравнений.\n",
    "\n",
    "Навстречу друг другу из одного города в другой, расстояние между которыми составляет 30 км, едут два велосипедиста. Предположим, что если велосипедист 1 выедет на 2 ч раньше своего товарища, то они встретятся через 2,5 часа после отъезда велосипедиста 2; если же велосипедист 2 выедет 2мя часами ранее велосипедсита 1, то встреча произойдет через 3 часа после отъезда первого. С какой скоростью движется каждый велосипедист?\n",
    "\n",
    "Обозначим за неизвестные x и y скорости велосипедистов.\n",
    "\n",
    "Путь = скорость * время\n",
    "\n",
    "Расстояние между велосипедистами = путь 1 велосипедиста + путь 2 велосипедиста\n",
    "\n",
    "На основании этих простых рассуждений и данных задачи можно записать уравнения:\n",
    "\n",
    "\\begin{matrix}\n",
    "(2.5 + 2)x+2.5y=30 &(19)\n",
    "\\\\\n",
    "3x + (3+2)y=30 &(20)\n",
    "\\end{matrix}\n",
    "\n",
    "или\n",
    "\n",
    "\\begin{matrix}\n",
    "4.5x+2.5y=30 &(21)\n",
    "\\\\\n",
    "3x + 5y=30 &(22)\n",
    "\\end{matrix}\n",
    "\n",
    "Аналогично примеру 1 легко составим матрицу коэффициентов перед неизвестными (левая часть системы) и вектор со свободными членами (права часть системы):\n",
    "\n",
    "\\begin{pmatrix}\n",
    " 4.5& 2.5\n",
    "\\\\ \n",
    "3 & 5\n",
    "\\end{pmatrix}\n",
    "\n",
    "\\begin{pmatrix}\n",
    " 30\n",
    "\\\\ \n",
    " 30\n",
    "\\end{pmatrix}"
   ]
  },
  {
   "cell_type": "code",
   "execution_count": 5,
   "metadata": {
    "collapsed": false
   },
   "outputs": [
    {
     "data": {
      "text/plain": [
       "array([ 5.,  3.])"
      ]
     },
     "execution_count": 5,
     "metadata": {},
     "output_type": "execute_result"
    }
   ],
   "source": [
    "import numpy # импортируем библиотеку \n",
    "\n",
    "M4 = numpy.array([[4.5, 2.5], [3., 5.]]) # Матрица (левая часть системы)\n",
    "v4 = numpy.array([30., 30.]) # Вектор (правая часть системы)\n",
    "\n",
    "numpy.linalg.solve(M4, v4)"
   ]
  },
  {
   "cell_type": "markdown",
   "metadata": {},
   "source": [
    "** Ответ: 5км/ч и 3км/ч**"
   ]
  },
  {
   "cell_type": "markdown",
   "metadata": {},
   "source": [
    "### Пример 5. Нахождение уравнения плоскости по точкам, через которые она проходит.\n",
    "Уравнение плоскости в 3-х мерном пространстве задаётся уравнением:\n",
    "\\begin{matrix}\n",
    "z = ax + by + c & (23)\n",
    "\\end{matrix}\n",
    "Уравнение плоскости однозначно задаётся 3 точками через которые она проходит.\n",
    "\n",
    "Таким образом легко понять, что если мы знаем координаты точек, через которые проходит плоскость, то в уравнении (23) у вас 3 переменных: a, b, c. А значения x, y, z нам известны для 3 точек.\n",
    "\n",
    "Если плоскость проходит через точки (1;-6;1), (0;-3;2) и (-3;0;-1), то мы легко можем найти коэффициенты, подставив значения соответсвующих координат для всех 3 точек в уравнение (23) и получив систему из 3 уравнений.\n",
    "\n",
    "Для точки x = 1, y = -6, z = 1:\n",
    "\\begin{matrix}\n",
    "a\\cdot 1 + b\\cdot (-6) + c = 1 &(24)\n",
    "\\end{matrix}\n",
    "\n",
    "Для точки x = 0, y = -3, z = 2:\n",
    "\\begin{matrix}\n",
    "a\\cdot 0 + b\\cdot (-3) + c = 2 &(25)\n",
    "\\end{matrix}\n",
    "\n",
    "Для точки x = -3, y = 0, z = -1:\n",
    "\\begin{matrix}\n",
    "a\\cdot (-3) + b\\cdot 0 + c = -1 &(26)\n",
    "\\end{matrix}\n",
    "\n",
    "На основании системы уравнений (24), (25), (26) можно записать матрицу коэффициентов перед неизвестными (левая часть матрицы):\n",
    "\n",
    "\\begin{pmatrix}\n",
    "1& -6 & 1\n",
    "\\\\ \n",
    "0 & -3 & 1\n",
    "\\\\ \n",
    "-3 & 0 & 1\n",
    "\\end{pmatrix}\n",
    "\n",
    "И вектор свободных членов (правая часть):\n",
    "\\begin{pmatrix}\n",
    "1\n",
    "\\\\ \n",
    "2\n",
    "\\\\\n",
    "-1\n",
    "\\end{pmatrix}"
   ]
  },
  {
   "cell_type": "code",
   "execution_count": 6,
   "metadata": {
    "collapsed": false,
    "scrolled": true
   },
   "outputs": [
    {
     "data": {
      "text/plain": [
       "array([ 2.,  1.,  5.])"
      ]
     },
     "execution_count": 6,
     "metadata": {},
     "output_type": "execute_result"
    }
   ],
   "source": [
    "import numpy # импортируем библиотеку \n",
    "\n",
    "M5 = numpy.array([[1., -6., 1.], [0., -3., 1], [-3, 0, 1]]) # Матрица (левая часть системы)\n",
    "v5 = numpy.array([1., 2., -1.]) # Вектор (правая часть системы)\n",
    "\n",
    "numpy.linalg.solve(M5, v5)\n"
   ]
  },
  {
   "cell_type": "markdown",
   "metadata": {},
   "source": [
    "**Ответ: уравнение искомой плоскости в пространстве задаётся уравнением $z = 2x + y + 5$**"
   ]
  },
  {
   "cell_type": "markdown",
   "metadata": {},
   "source": [
    "### Пример 6. Нахождение уравнения параболы по 2 точкам и касательной\n",
    "\n",
    "Найти уравнение паработы ($f(x) = ax^2 + bx + x & (27)$), проходящей через точки (1,1) и (-1,1) и касающейся биссектрисы 1й координатной четверти.\n",
    "\n",
    "Как и в предыдущем примере неизвестными для нас являются коэффициенты a, b, c.\n",
    "\n",
    "Подставив в уравнение параболы (27) значения аргумента (x) и функции (f(x)) получим 2 уравнения:\n",
    "\n",
    "\\begin{matrix}\n",
    "a\\cdot 1^2 + b\\cdot 1 + c = 1 &(28)\n",
    "\\\\\n",
    "a\\cdot (-1)^2 + b\\cdot (-1) + c = 1 &(29)\n",
    "\\end{matrix}\n",
    "\n",
    "Однако для нахождения 3 неизвестных 2 уравнений мало. Необходимо найти ещё одно из оставшихся условий.\n",
    "\n",
    "Касание биссектрисы 1й координатной четверти означает, что наша парабола имеет касательную $y = x$. Если посмотреть на услвоие задачи, то мы увидим, что одна из точек (1, 1) лежит на этой прямой. Это означает, что мы знаем точку касания.\n",
    "\n",
    "Уравнение прямой, делящей 1-ю координатную четверть пополам (биссектрисы) имеет вид $y = kx \\quad (30)$\n",
    "\n",
    "При этом мы знаем, что угол уравнения касательной (коэффициент k уравнения (30)) равен производной от функции (27) в точке касания.\n",
    "\n",
    "\\begin{matrix}\n",
    "f'(x) = 2ax + bx & (31)\n",
    "\\end{matrix}\n",
    "\n",
    "Подставив значение аргумента (x = 1) в точке касания и коэффициента (k = 1 в качестве производной f'(x)) \n",
    "\n",
    "\\begin{matrix}\n",
    "1 = 2a\\cdot1 + b\\cdot1 & (32)\n",
    "\\end{matrix}\n",
    "\n",
    "Используя уравнения (28), (29) и (32), запишем полную систему уравнений, которую нам необходимо решить:\n",
    "\n",
    "\\begin{matrix}\n",
    "a\\cdot 1 + b\\cdot 1 + c \\cdot 1 = 1 &(33)\n",
    "\\\\\n",
    "a\\cdot 1 + b\\cdot (-1) + c \\cdot 1 = 1 &(34)\n",
    "\\\\\n",
    "a\\cdot 2 + b\\cdot 1 + c \\cdot 0 = 1 &(35)\n",
    "\\end{matrix}\n",
    "\n",
    "По привычной уже схеме запишем коэффициенты перед переменными (левую часть системы) в матрицу, а свободные члены (правую часть) в вектор:\n",
    "\n",
    "\\begin{pmatrix}\n",
    "1& 1 & 1\n",
    "\\\\ \n",
    "1 & -1 & 1\n",
    "\\\\ \n",
    "2 & 1 & 0\n",
    "\\end{pmatrix}\n",
    "\n",
    "\\begin{pmatrix}\n",
    "1\n",
    "\\\\ \n",
    "1\n",
    "\\\\ \n",
    "1\n",
    "\\end{pmatrix}"
   ]
  },
  {
   "cell_type": "code",
   "execution_count": 7,
   "metadata": {
    "collapsed": false
   },
   "outputs": [
    {
     "data": {
      "text/plain": [
       "array([ 0.5, -0. ,  0.5])"
      ]
     },
     "execution_count": 7,
     "metadata": {},
     "output_type": "execute_result"
    }
   ],
   "source": [
    "import numpy # импортируем библиотеку \n",
    "\n",
    "M6 = numpy.array([[1., 1., 1.], [1., -1., 1], [2, 1, 0]]) # Матрица (левая часть системы)\n",
    "v6 = numpy.array([1., 1., 1.]) # Вектор (правая часть системы)\n",
    "\n",
    "numpy.linalg.solve(M6, v6)"
   ]
  },
  {
   "cell_type": "markdown",
   "metadata": {},
   "source": [
    "**Ответ: уравнение искомой параболы задаётся функцией $f(x) = 0.5x^2 + 0.5$**"
   ]
  },
  {
   "cell_type": "markdown",
   "metadata": {},
   "source": [
    "#### Примечание к примеру 6\n",
    "На иллюстрации ниже изображены графики параболы и биссектрисы, которой она касается. А так же 2 точки, через которых проходит парабола."
   ]
  },
  {
   "cell_type": "code",
   "execution_count": 8,
   "metadata": {
    "collapsed": false
   },
   "outputs": [
    {
     "data": {
      "text/plain": [
       "[<matplotlib.lines.Line2D at 0x7a06588>]"
      ]
     },
     "execution_count": 8,
     "metadata": {},
     "output_type": "execute_result"
    },
    {
     "data": {
      "image/png": "[encoded data removed]",
      "text/plain": [
       "<matplotlib.figure.Figure at 0x70f0128>"
      ]
     },
     "metadata": {},
     "output_type": "display_data"
    }
   ],
   "source": [
    "import numpy\n",
    "import matplotlib as mpl\n",
    "import matplotlib.pyplot as plt\n",
    "% matplotlib inline\n",
    "\n",
    "mpl.rc('font', family='Verdana', size= 18)\n",
    "\n",
    "w = numpy.linalg.solve(M6, v6) # запишем найденные коэффициенты в переменную\n",
    "def f(x):\n",
    "    return w[0]*x**2 + w[1]*x + w[2] # уравнение параболы\n",
    "\n",
    "mpl.rcParams['figure.figsize'] = [10,10]\n",
    "x = numpy.linspace(-2,2,200)\n",
    "plt.axis([-2., 2., -2., 2.])\n",
    "plt.plot(x, f(x), x, x)\n",
    "plt.xlabel(u'x',{'fontname':'Arial', 'size': 24})\n",
    "plt.ylabel(u'f(x)',{'fontname':'Arial', 'size': 24})\n",
    "plt.annotate('Точка касания', xy=(1, 1), xytext=(1.5, 1.),\n",
    "            arrowprops=dict(facecolor='black', shrink=0.05),\n",
    "            )\n",
    "plt.plot([-1, 1], [1, 1], 'ro')"
   ]
  },
  {
   "cell_type": "code",
   "execution_count": null,
   "metadata": {
    "collapsed": true
   },
   "outputs": [],
   "source": []
  }
 ],
 "metadata": {
  "kernelspec": {
   "display_name": "Python 3",
   "language": "python",
   "name": "python3"
  },
  "language_info": {
   "codemirror_mode": {
    "name": "ipython",
    "version": 3
   },
   "file_extension": ".py",
   "mimetype": "text/x-python",
   "name": "python",
   "nbconvert_exporter": "python",
   "pygments_lexer": "ipython3",
   "version": "3.5.1"
  }
 },
 "nbformat": 4,
 "nbformat_minor": 0
}
